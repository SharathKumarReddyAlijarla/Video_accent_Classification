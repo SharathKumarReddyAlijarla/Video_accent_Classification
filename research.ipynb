{
 "cells": [
  {
   "cell_type": "markdown",
   "id": "c2172945",
   "metadata": {},
   "source": [
    "## Task 01, 02 Actual Audio extract from given video URL"
   ]
  },
  {
   "cell_type": "code",
   "execution_count": 66,
   "id": "ba24a26c",
   "metadata": {},
   "outputs": [],
   "source": [
    "# import os\n",
    "# import subprocess\n",
    "# import shutil\n",
    "# import requests\n",
    "# from urllib.parse import urlparse\n",
    "# import yt_dlp\n",
    "\n",
    "\n",
    "# def is_url(path):\n",
    "#     return path.startswith(\"http://\") or path.startswith(\"https://\")\n",
    "\n",
    "\n",
    "# def is_youtube_url(url):\n",
    "#     return \"youtube.com\" in url or \"youtu.be\" in url\n",
    "\n",
    "\n",
    "# def download_video_youtube(youtube_url, output_path=\"yt_video.mp4\"):\n",
    "#     print(\"[~] Detected YouTube URL. Downloading with yt-dlp...\")\n",
    "#     ydl_opts = {\n",
    "#         'format': 'mp4',\n",
    "#         'outtmpl': output_path,\n",
    "#         'quiet': False,\n",
    "#         'noplaylist': True,\n",
    "#     }\n",
    "\n",
    "#     with yt_dlp.YoutubeDL(ydl_opts) as ydl:\n",
    "#         ydl.download([youtube_url])\n",
    "\n",
    "#     print(f\"[✓] Downloaded YouTube video to {output_path}\")\n",
    "#     return output_path\n",
    "\n",
    "\n",
    "# def download_video_http(video_url, output_path=\"http_video.mp4\"):\n",
    "#     print(\"[~] Detected direct video URL. Downloading with requests...\")\n",
    "#     response = requests.get(video_url, stream=True)\n",
    "#     if response.status_code != 200:\n",
    "#         raise Exception(\"Failed to download video\")\n",
    "\n",
    "#     with open(output_path, \"wb\") as f:\n",
    "#         for chunk in response.iter_content(chunk_size=1024 * 1024):\n",
    "#             f.write(chunk)\n",
    "#     print(f\"[✓] Downloaded video to {output_path}\")\n",
    "#     return output_path\n",
    "\n",
    "\n",
    "# def extract_audio(video_path, audio_path=\"extracted_audio.wav\", max_duration=None):\n",
    "#     if not shutil.which(\"ffmpeg\"):\n",
    "#         raise EnvironmentError(\"ffmpeg not found. Please install it.\")\n",
    "\n",
    "#     command = [\n",
    "#         \"ffmpeg\", \"-y\", \"-i\", video_path,\n",
    "#         \"-vn\", \"-acodec\", \"pcm_s16le\",\n",
    "#         \"-ar\", \"16000\", \"-ac\", \"1\"\n",
    "#     ]\n",
    "\n",
    "#     if max_duration:\n",
    "#         command.extend([\"-t\", str(max_duration)])\n",
    "\n",
    "#     command.append(audio_path)\n",
    "\n",
    "#     print(f\"[~] Extracting audio from: {video_path}\")\n",
    "#     subprocess.run(command, check=True)\n",
    "#     print(f\"[✓] Extracted audio to {audio_path}\")\n",
    "#     return audio_path\n",
    "\n",
    "\n",
    "# def handle_video_input(input_path_or_url, audio_output=\"extracted_audio.wav\", max_duration=None):\n",
    "#     if is_url(input_path_or_url):\n",
    "#         if is_youtube_url(input_path_or_url):\n",
    "#             video_path = download_video_youtube(input_path_or_url)\n",
    "#         else:\n",
    "#             video_path = download_video_http(input_path_or_url)\n",
    "#     else:\n",
    "#         print(\"[~] Detected local video file.\")\n",
    "#         if not os.path.isfile(input_path_or_url):\n",
    "#             raise FileNotFoundError(f\"File not found: {input_path_or_url}\")\n",
    "#         video_path = input_path_or_url\n",
    "\n",
    "#     return extract_audio(video_path, audio_output, max_duration=max_duration)\n"
   ]
  },
  {
   "cell_type": "code",
   "execution_count": null,
   "id": "c9dfdb5f",
   "metadata": {},
   "outputs": [],
   "source": []
  },
  {
   "cell_type": "code",
   "execution_count": 72,
   "id": "19efe344",
   "metadata": {},
   "outputs": [],
   "source": [
    "import os\n",
    "import subprocess\n",
    "import shutil\n",
    "import requests\n",
    "import hashlib\n",
    "from urllib.parse import urlparse\n",
    "import yt_dlp\n",
    "\n",
    "\n",
    "def is_url(path):\n",
    "    return path.startswith(\"http://\") or path.startswith(\"https://\")\n",
    "\n",
    "\n",
    "def is_youtube_url(url):\n",
    "    return \"youtube.com\" in url or \"youtu.be\" in url\n",
    "\n",
    "\n",
    "def remove_if_exists(filepath):\n",
    "    if os.path.exists(filepath):\n",
    "        os.remove(filepath)\n",
    "\n",
    "\n",
    "def get_filename_from_url(url, prefix, ext):\n",
    "    url_hash = hashlib.md5(url.encode()).hexdigest()\n",
    "    return f\"{prefix}_{url_hash}.{ext}\"\n",
    "\n",
    "\n",
    "def download_video_youtube(youtube_url, output_path=None):\n",
    "    if output_path is None:\n",
    "        output_path = get_filename_from_url(youtube_url, \"yt_video\", \"mp4\")\n",
    "\n",
    "    remove_if_exists(output_path)\n",
    "    print(\"[~] Detected YouTube URL. Downloading with yt-dlp...\")\n",
    "    ydl_opts = {\n",
    "        'format': 'mp4',\n",
    "        'outtmpl': output_path,\n",
    "        'quiet': False,\n",
    "        'noplaylist': True,\n",
    "    }\n",
    "\n",
    "    with yt_dlp.YoutubeDL(ydl_opts) as ydl:\n",
    "        ydl.download([youtube_url])\n",
    "\n",
    "    print(f\"[✓] Downloaded YouTube video to {output_path}\")\n",
    "    return output_path\n",
    "\n",
    "\n",
    "def download_video_http(video_url, output_path=None):\n",
    "    if output_path is None:\n",
    "        output_path = get_filename_from_url(video_url, \"http_video\", \"mp4\")\n",
    "\n",
    "    remove_if_exists(output_path)\n",
    "    print(\"[~] Detected direct video URL. Downloading with requests...\")\n",
    "    response = requests.get(video_url, stream=True)\n",
    "    if response.status_code != 200:\n",
    "        raise Exception(\"Failed to download video\")\n",
    "\n",
    "    with open(output_path, \"wb\") as f:\n",
    "        for chunk in response.iter_content(chunk_size=1024 * 1024):\n",
    "            f.write(chunk)\n",
    "    print(f\"[✓] Downloaded video to {output_path}\")\n",
    "    return output_path\n",
    "\n",
    "\n",
    "def extract_audio(video_path, audio_path=\"extracted_audio.wav\", max_duration=None):\n",
    "    remove_if_exists(audio_path)\n",
    "    if not shutil.which(\"ffmpeg\"):\n",
    "        raise EnvironmentError(\"ffmpeg not found. Please install it.\")\n",
    "\n",
    "    command = [\n",
    "        \"ffmpeg\", \"-y\", \"-i\", video_path,\n",
    "        \"-vn\", \"-acodec\", \"pcm_s16le\",\n",
    "        \"-ar\", \"16000\", \"-ac\", \"1\"\n",
    "    ]\n",
    "\n",
    "    if max_duration:\n",
    "        command.extend([\"-t\", str(max_duration)])\n",
    "\n",
    "    command.append(audio_path)\n",
    "\n",
    "    print(f\"[~] Extracting audio from: {video_path}\")\n",
    "    subprocess.run(command, check=True)\n",
    "    print(f\"[✓] Extracted audio to {audio_path}\")\n",
    "    return audio_path\n",
    "\n",
    "\n",
    "def handle_video_input(input_path_or_url, audio_output=\"extracted_audio.wav\", max_duration=None):\n",
    "    if is_url(input_path_or_url):\n",
    "        if is_youtube_url(input_path_or_url):\n",
    "            video_path = download_video_youtube(input_path_or_url)\n",
    "        else:\n",
    "            video_path = download_video_http(input_path_or_url)\n",
    "    else:\n",
    "        print(\"[~] Detected local video file.\")\n",
    "        if not os.path.isfile(input_path_or_url):\n",
    "            raise FileNotFoundError(f\"File not found: {input_path_or_url}\")\n",
    "        video_path = input_path_or_url\n",
    "\n",
    "    return extract_audio(video_path, audio_output, max_duration=max_duration)\n"
   ]
  },
  {
   "cell_type": "code",
   "execution_count": 59,
   "id": "24cbedb5",
   "metadata": {},
   "outputs": [
    {
     "name": "stdout",
     "output_type": "stream",
     "text": [
      "[~] Detected YouTube URL. Downloading with yt-dlp...\n",
      "[youtube] Extracting URL: https://youtu.be/nIwU-9ZTTJc?si=Ba6XvQSEv8nwEBGH\n",
      "[youtube] nIwU-9ZTTJc: Downloading webpage\n",
      "[youtube] nIwU-9ZTTJc: Downloading tv client config\n",
      "[youtube] nIwU-9ZTTJc: Downloading tv player API JSON\n",
      "[youtube] nIwU-9ZTTJc: Downloading ios player API JSON\n",
      "[youtube] nIwU-9ZTTJc: Downloading m3u8 information\n",
      "[info] nIwU-9ZTTJc: Downloading 1 format(s): 18\n",
      "[download] Destination: yt_video_42c804a5d0593744b8ef0b63eefad16e.mp4\n",
      "[download] 100% of   11.11MiB in 00:00:04 at 2.57MiB/s     \n",
      "[✓] Downloaded YouTube video to yt_video_42c804a5d0593744b8ef0b63eefad16e.mp4\n",
      "[~] Extracting audio from: yt_video_42c804a5d0593744b8ef0b63eefad16e.mp4\n",
      "[✓] Extracted audio to extracted_audio.wav\n"
     ]
    },
    {
     "data": {
      "text/plain": [
       "'extracted_audio.wav'"
      ]
     },
     "execution_count": 59,
     "metadata": {},
     "output_type": "execute_result"
    }
   ],
   "source": [
    "# Example 01: youtube video\n",
    "\n",
    "handle_video_input(\"https://youtu.be/nIwU-9ZTTJc?si=Ba6XvQSEv8nwEBGH\")\n",
    "# handle_video_input(\"https://youtu.be/0Yyu2VgTLro?si=Ohg3zrd6-_ZPj-Au\") #Indian accent\n",
    "\n"
   ]
  },
  {
   "cell_type": "code",
   "execution_count": null,
   "id": "ae89263f",
   "metadata": {},
   "outputs": [
    {
     "name": "stdout",
     "output_type": "stream",
     "text": [
      "[~] Detected direct video URL. Downloading with requests...\n",
      "[✓] Downloaded video to http_video.mp4\n",
      "[~] Extracting audio from: http_video.mp4\n",
      "[✓] Extracted audio to extracted_audio.wav\n"
     ]
    },
    {
     "data": {
      "text/plain": [
       "'extracted_audio.wav'"
      ]
     },
     "execution_count": 20,
     "metadata": {},
     "output_type": "execute_result"
    }
   ],
   "source": [
    "# Example 02: Public video url (us accent)\n",
    "handle_video_input(\"https://archive.org/download/learnenglishconversationwithfilm/English%20Conversation%2049.mp4\"\n",
    ")\n"
   ]
  },
  {
   "cell_type": "code",
   "execution_count": 73,
   "id": "a781971b",
   "metadata": {},
   "outputs": [
    {
     "name": "stdout",
     "output_type": "stream",
     "text": [
      "[~] Detected local video file.\n",
      "[~] Extracting audio from: C:\\Users\\giree\\Downloads\\WhatsApp Video 2025-06-01 at 04.16.31.mp4\n",
      "[✓] Extracted audio to extracted_audio.wav\n"
     ]
    },
    {
     "data": {
      "text/plain": [
       "'extracted_audio.wav'"
      ]
     },
     "execution_count": 73,
     "metadata": {},
     "output_type": "execute_result"
    }
   ],
   "source": [
    "# Example 03: local file url\n",
    "# handle_video_input(r\"C:\\Users\\giree\\Downloads\\YouCut_20250525_190439329.mp4\")\n",
    "handle_video_input(r\"C:\\Users\\giree\\Downloads\\WhatsApp Video 2025-06-01 at 04.16.31.mp4\")"
   ]
  },
  {
   "cell_type": "code",
   "execution_count": 74,
   "id": "d46d47cd",
   "metadata": {},
   "outputs": [],
   "source": [
    "# handle_video_input(\"https://www.loom.com/share/eb3eef2268d64d9cbae5c655bbd1de8d?sid=e27a5e5f-1c5f-48e7-bfc1-e08e8e13ed0a\")"
   ]
  },
  {
   "cell_type": "markdown",
   "id": "b49084a5",
   "metadata": {},
   "source": [
    "## Task 03"
   ]
  },
  {
   "attachments": {
    "image.png": {
     "image/png": "[encoded data removed]"
    }
   },
   "cell_type": "markdown",
   "id": "baf3024b",
   "metadata": {},
   "source": [
    "![image.png](attachment:image.png)"
   ]
  },
  {
   "cell_type": "code",
   "execution_count": null,
   "id": "1f8cadfb",
   "metadata": {},
   "outputs": [],
   "source": [
    "## Because Whisper is not published to PyPI (the standard Python package index), Clone the Whisper source code directly from GitHub\n",
    "pip install git+https://github.com/openai/whisper.git"
   ]
  },
  {
   "cell_type": "code",
   "execution_count": null,
   "id": "97ee61e2",
   "metadata": {},
   "outputs": [],
   "source": [
    "pip install torch"
   ]
  },
  {
   "cell_type": "markdown",
   "id": "93b2853c",
   "metadata": {},
   "source": [
    "### 3.1 Transcribe the Audio (Speech-to-Text)\n",
    "\n",
    "Even though the goal is accent detection, transcription gives us:\n",
    "\n",
    "A clean signal of voice segments\n",
    "\n",
    "Potential auxiliary information like pronunciation artifacts\n",
    "\n",
    "Tool:\n",
    "\n",
    "OpenAI Whisper (open-source & multilingual, includes basic accent info implicitly)"
   ]
  },
  {
   "attachments": {
    "image.png": {
     "image/png": "[encoded data removed]"
    }
   },
   "cell_type": "markdown",
   "id": "8f9c3c61",
   "metadata": {},
   "source": [
    "![image.png](attachment:image.png)"
   ]
  },
  {
   "cell_type": "code",
   "execution_count": 75,
   "id": "f44fdf1d",
   "metadata": {},
   "outputs": [
    {
     "name": "stderr",
     "output_type": "stream",
     "text": [
      "c:\\Users\\giree\\anaconda3\\envs\\video\\lib\\site-packages\\whisper\\transcribe.py:132: UserWarning: FP16 is not supported on CPU; using FP32 instead\n",
      "  warnings.warn(\"FP16 is not supported on CPU; using FP32 instead\")\n"
     ]
    },
    {
     "name": "stdout",
     "output_type": "stream",
     "text": [
      "Transcription:\n",
      "\n",
      " Hi everyone, I have done with my task yesterday, so I am recording a video. In this video I want to explain you what improvements I have made in this task and also I want to explain why those changes are made and how performance actually increased. So coming to my model, like coming to my code I have submitted you two quotes, like one with like improving the baseline model and other one I have built a new model, new models like so I have written our readme file explaining everything in detail. So first model, like I have updated a baseline model, if you go through the baseline model, it's like simple neural network model without much of optimization if you see that loss curves are like going again upwards which means overfitting. So I had made a couple of changes in this model, so I have added optional hyper parameter tuning, so which actually tunes hyper parameters like number of dropout like dropout rate and auto, automatically it will just with a different set of values where I will give the limit from like for example if I say number of layers are like from 1 to 5 so it will take 1, 2, 3, 4 and 5 and check the results and decides which one is doing better. So it will automatically tune the hyper parameters and I have added batch normalization and dropout layers because to smoothen the loss curve while converging. So I have added them so they also avoid overfitting. So then I have added this at least stopping function and reduce learning rate on plateau which is a learning rate schedule. So if you go through this baseline model, so loss functions came down and like it's again going up. So when you use early stopping function then when loss function curve is about to going up which means overfitting. So when it is about to overfit the training process will be stopped. So in this way we can avoid overfitting and also I have used a learning rate schedule. When we use learning rate schedule so when loss curves are coming down and at this point it is increasing. So at that point learning rate is reduced by let's say 0.1 like 0.1 step. Like if it is like 0.01 is our current learning rate then when it reaches this point 0.001 will be our next learning rate. So it will reduce the curve a little more and again a scheduler will dynamically reduce the learning rate and it will come a little more downward. So we will achieve very less loss values for better training purpose. I used learning rate scheduler and I have also changed the optimizer. I have used Adam W instead of Adam which is advanced to one compared to Adam W. So I have also used this seeding function so that I can generate the same results every time I run the code. So that data is divided in the same way. So basically we use this for reproducing same results in every run. Without if you don't change any hyperparameters or nothing if you run the same code multiple times your results will still be same. It will not change. So and this is this is a new model which I used which is not related to baseline model where where again I have checked for missing values it they are not there but yeah I put it in code further and I return code to handle the class imbalance and I have used some future selection techniques. Let's say low variance removal and high correlation removal and I have also used random forest future importance. Based on these values like using these functions we can remove future which are not very important or very less important which might help a training process like to focus on future which are more important and to get good accuracy. So in this model in this code I have first used traditional machine learning models like logistic regression run for us classifier so I got the results and I compared my neural network model which is simple neural network model I use simple neural network model because we have a very small and simple we don't need what we say complicated neural network model which might over fit or which might reduce accuracy. So I started with very simple model and I increased little bit complexity but it's still model is still a simple model so I again used a batch normalization layers and top layer to prevent over fitting and I also say similarly I used a list of things and learning red shirt you love and Adam W optimizer in this code also. So I have also created requirements dot txt file you can directly run this and download the required files dependencies and yeah coding style I have used a paid coding style which I've been using since so long. So long so I am comfortable with this style so I have used papiite coding style so when it comes to results so original baseline model which is there and a kegel it's like a precision recall values are like this 88 and when it comes to logistic regression it's still a diet and for us to give a better results like the results. 92 accuracy and this is like my neural network model it also gave 92 but in my neural network model I didn't use optina hyper parameter tuning I just wanted to show that I can also tune the hyper parameters manually so I just manually tuned the hyper parameters and have achieved 92 accuracy and in this. I have updated based on model like I have updated this original based and model with all the techniques I said just now and I have achieved 93 accuracy so these are the files include new model has a code of my own model and also there's a traditional machine learning models and updated based and model has code of. baseline model with changes made by me so train and test.cs were input data sets and repairman.txt in that you'll have dependencies which are required. I think I can also I also want to show you the loss function diagram based line model is like this and one moment and my model loss function training loss and validation loss plot is like this so here you can't you don't see overfitting lines are like continuously. Converging and validation loss is little less than training loss this might be because of having a small data set and validation data set might not be having a like values which are like diverse or it's it's easy for the model when you have a. Similar like not a diverse data set if you don't have in your testing data then some time she will get results of validation loss better than training loss otherwise if you are dealing with a large data then you will definitely have a diverse. Data set then this curve will remain like looks similar but it it should it will go some will somewhat like this because always training that like training loss should be less than a validation loss it's not a mandatory but logically that should happen but the reason might be having a small data and less diverse data. This is my project I hope you understood and I think I have written enough read me file to understand how my code work if you I think you can you we can get results by directly running this code. But in case if you don't get the results also I will also share photos images of the results I also shared how results were but I have a better understanding I can also share my images which I got during training. So that's it hope you like my work and looking forward to get a feedback from you thank you.\n"
     ]
    }
   ],
   "source": [
    "import whisper\n",
    "\n",
    "# Force Whisper to use the CPU\n",
    "model = whisper.load_model(\"base\", device=\"cpu\")\n",
    "\n",
    "# Run transcription\n",
    "result = model.transcribe(\"extracted_audio.wav\")\n",
    "\n",
    "# Print output\n",
    "print(\"Transcription:\\n\")\n",
    "print(result[\"text\"])\n"
   ]
  },
  {
   "cell_type": "code",
   "execution_count": 76,
   "id": "c2448d43",
   "metadata": {},
   "outputs": [],
   "source": [
    "with open(\"transcription.txt\", \"w\") as f:\n",
    "    f.write(result[\"text\"])"
   ]
  },
  {
   "cell_type": "markdown",
   "id": "b8cb0da1",
   "metadata": {},
   "source": [
    "### 3.2 — Extract Speaker Voice Features for Accent Detection\n",
    "\n",
    "🎯 Objective:\n",
    "Get a numerical representation (embedding) of the speaker’s voice from the audio, which we’ll use to classify their accent.\n",
    "\n",
    "✅ Why speaker embeddings?\n",
    "They capture voice characteristics like accent, pitch, style.\n",
    "We can train or apply a classifier on these embeddings to predict accent.\n",
    "\n",
    "🧠 How to do this:\n",
    "Use a pretrained speaker embedding model (sometimes called speaker verification or speaker recognition model)."
   ]
  },
  {
   "cell_type": "code",
   "execution_count": null,
   "id": "a55db94c",
   "metadata": {},
   "outputs": [],
   "source": [
    "pip install speechbrain"
   ]
  },
  {
   "cell_type": "markdown",
   "id": "7fe23ab6",
   "metadata": {},
   "source": [
    "speechbrain (or huggingface_hub) downloads model files and tries to create symlinks inside your cache or model folder.On Windows, creating symlinks requires elevated privileges (admin rights) or Developer Mode enabled. IF NOT ENABLED YOU WILL ENCOUNTER OS ERRO.\n",
    "\n",
    "To avoid \"\"OSError: [WinError 1314] A required privilege is not held by the client\"\" TRY FOLLOWING FIX.\n",
    "\n",
    "FIX: *Enable Dev Mode*\t\n",
    "Windows Settings → System → For developers → Enable Dev Mode\n"
   ]
  },
  {
   "cell_type": "code",
   "execution_count": 77,
   "id": "3491ec1c",
   "metadata": {},
   "outputs": [
    {
     "name": "stderr",
     "output_type": "stream",
     "text": [
      "c:\\Users\\giree\\anaconda3\\envs\\video\\lib\\site-packages\\speechbrain\\utils\\parameter_transfer.py:234: UserWarning: Requested Pretrainer collection using symlinks on Windows. This might not work; see `LocalStrategy` documentation. Consider unsetting `collect_in` in Pretrainer to avoid symlinking altogether.\n",
      "  warnings.warn(\n"
     ]
    },
    {
     "name": "stdout",
     "output_type": "stream",
     "text": [
      "Speaker embedding shape: torch.Size([1, 1, 192])\n"
     ]
    }
   ],
   "source": [
    "import torchaudio\n",
    "from speechbrain.pretrained import SpeakerRecognition\n",
    "\n",
    "# Load pre-trained ECAPA-TDNN model\n",
    "model = SpeakerRecognition.from_hparams(source=\"speechbrain/spkrec-ecapa-voxceleb\", savedir=\"models/spkrec-ecapa-voxceleb\")\n",
    "\n",
    "# Load audio (must be 16 kHz mono)\n",
    "signal, fs = torchaudio.load(\"extracted_audio.wav\")\n",
    "if fs != 16000:\n",
    "    resampler = torchaudio.transforms.Resample(fs, 16000)\n",
    "    signal = resampler(signal)\n",
    "\n",
    "# Get speaker embedding vector (1D tensor)\n",
    "embedding = model.encode_batch(signal)\n",
    "\n",
    "print(\"Speaker embedding shape:\", embedding.shape)\n"
   ]
  },
  {
   "cell_type": "markdown",
   "id": "df458b8f",
   "metadata": {},
   "source": [
    "Shape [1, 1, 192] means:\n",
    "\n",
    "Batch size = 1\n",
    "\n",
    "Number of speaker embeddings = 1\n",
    "\n",
    "Embedding dimension = 192\n",
    "\n",
    "We now have a numeric vector representing the speaker’s voice"
   ]
  },
  {
   "cell_type": "code",
   "execution_count": 78,
   "id": "be424204",
   "metadata": {},
   "outputs": [
    {
     "name": "stdout",
     "output_type": "stream",
     "text": [
      "(192,)\n"
     ]
    }
   ],
   "source": [
    "# Flatten or squeeze the embedding to [192] for easier use:\n",
    "embedding_vector = embedding.squeeze().cpu().numpy()\n",
    "print(embedding_vector.shape)  # (192,)"
   ]
  },
  {
   "cell_type": "markdown",
   "id": "a0b80b1f",
   "metadata": {},
   "source": [
    "🔍 Pretrained Model\n",
    "Model Name: Jzuluaga/accent-id-commonaccent_ecapa\n",
    "\n",
    "Framework: SpeechBrain\n",
    "\n",
    "Supported Accents: US, England, Australia, Indian, Canada, Bermuda, Scotland, African, Ireland, New Zealand, Wales, Malaysia, Philippines, Singapore, Hong Kong, South Atlantic\n",
    "\n",
    "Accuracy: Up to 87% on test sets "
   ]
  },
  {
   "cell_type": "code",
   "execution_count": 10,
   "id": "60140137",
   "metadata": {},
   "outputs": [
    {
     "name": "stdout",
     "output_type": "stream",
     "text": [
      "Requirement already satisfied: speechbrain in c:\\users\\giree\\anaconda3\\envs\\video\\lib\\site-packages (1.0.3)\n",
      "Requirement already satisfied: torchaudio in c:\\users\\giree\\anaconda3\\envs\\video\\lib\\site-packages (2.7.0)\n",
      "Requirement already satisfied: hyperpyyaml in c:\\users\\giree\\anaconda3\\envs\\video\\lib\\site-packages (from speechbrain) (1.2.2)\n",
      "Requirement already satisfied: joblib in c:\\users\\giree\\anaconda3\\envs\\video\\lib\\site-packages (from speechbrain) (1.5.1)\n",
      "Requirement already satisfied: numpy in c:\\users\\giree\\anaconda3\\envs\\video\\lib\\site-packages (from speechbrain) (2.2.6)\n",
      "Requirement already satisfied: packaging in c:\\users\\giree\\anaconda3\\envs\\video\\lib\\site-packages (from speechbrain) (25.0)\n",
      "Requirement already satisfied: scipy in c:\\users\\giree\\anaconda3\\envs\\video\\lib\\site-packages (from speechbrain) (1.15.3)\n",
      "Requirement already satisfied: sentencepiece in c:\\users\\giree\\anaconda3\\envs\\video\\lib\\site-packages (from speechbrain) (0.2.0)\n",
      "Requirement already satisfied: torch>=1.9 in c:\\users\\giree\\anaconda3\\envs\\video\\lib\\site-packages (from speechbrain) (2.7.0)\n",
      "Requirement already satisfied: tqdm in c:\\users\\giree\\anaconda3\\envs\\video\\lib\\site-packages (from speechbrain) (4.67.1)\n",
      "Requirement already satisfied: huggingface_hub in c:\\users\\giree\\anaconda3\\envs\\video\\lib\\site-packages (from speechbrain) (0.32.3)\n",
      "Requirement already satisfied: filelock in c:\\users\\giree\\anaconda3\\envs\\video\\lib\\site-packages (from torch>=1.9->speechbrain) (3.18.0)\n",
      "Requirement already satisfied: typing-extensions>=4.10.0 in c:\\users\\giree\\anaconda3\\envs\\video\\lib\\site-packages (from torch>=1.9->speechbrain) (4.13.2)\n",
      "Requirement already satisfied: sympy>=1.13.3 in c:\\users\\giree\\anaconda3\\envs\\video\\lib\\site-packages (from torch>=1.9->speechbrain) (1.14.0)\n",
      "Requirement already satisfied: networkx in c:\\users\\giree\\anaconda3\\envs\\video\\lib\\site-packages (from torch>=1.9->speechbrain) (3.4.2)\n",
      "Requirement already satisfied: jinja2 in c:\\users\\giree\\anaconda3\\envs\\video\\lib\\site-packages (from torch>=1.9->speechbrain) (3.1.6)\n",
      "Requirement already satisfied: fsspec in c:\\users\\giree\\anaconda3\\envs\\video\\lib\\site-packages (from torch>=1.9->speechbrain) (2025.5.1)\n",
      "Requirement already satisfied: mpmath<1.4,>=1.1.0 in c:\\users\\giree\\anaconda3\\envs\\video\\lib\\site-packages (from sympy>=1.13.3->torch>=1.9->speechbrain) (1.3.0)\n",
      "Requirement already satisfied: pyyaml>=5.1 in c:\\users\\giree\\anaconda3\\envs\\video\\lib\\site-packages (from huggingface_hub->speechbrain) (6.0.2)\n",
      "Requirement already satisfied: requests in c:\\users\\giree\\anaconda3\\envs\\video\\lib\\site-packages (from huggingface_hub->speechbrain) (2.32.3)\n",
      "Requirement already satisfied: colorama in c:\\users\\giree\\anaconda3\\envs\\video\\lib\\site-packages (from tqdm->speechbrain) (0.4.6)\n",
      "Requirement already satisfied: ruamel.yaml>=0.17.28 in c:\\users\\giree\\anaconda3\\envs\\video\\lib\\site-packages (from hyperpyyaml->speechbrain) (0.18.12)\n",
      "Requirement already satisfied: ruamel.yaml.clib>=0.2.7 in c:\\users\\giree\\anaconda3\\envs\\video\\lib\\site-packages (from ruamel.yaml>=0.17.28->hyperpyyaml->speechbrain) (0.2.12)\n",
      "Requirement already satisfied: MarkupSafe>=2.0 in c:\\users\\giree\\anaconda3\\envs\\video\\lib\\site-packages (from jinja2->torch>=1.9->speechbrain) (3.0.2)\n",
      "Requirement already satisfied: charset-normalizer<4,>=2 in c:\\users\\giree\\anaconda3\\envs\\video\\lib\\site-packages (from requests->huggingface_hub->speechbrain) (3.3.2)\n",
      "Requirement already satisfied: idna<4,>=2.5 in c:\\users\\giree\\anaconda3\\envs\\video\\lib\\site-packages (from requests->huggingface_hub->speechbrain) (3.7)\n",
      "Requirement already satisfied: urllib3<3,>=1.21.1 in c:\\users\\giree\\anaconda3\\envs\\video\\lib\\site-packages (from requests->huggingface_hub->speechbrain) (2.3.0)\n",
      "Requirement already satisfied: certifi>=2017.4.17 in c:\\users\\giree\\anaconda3\\envs\\video\\lib\\site-packages (from requests->huggingface_hub->speechbrain) (2025.4.26)\n",
      "Note: you may need to restart the kernel to use updated packages.\n"
     ]
    }
   ],
   "source": [
    "pip install speechbrain torchaudio"
   ]
  },
  {
   "cell_type": "code",
   "execution_count": 79,
   "id": "f5b76f1b",
   "metadata": {},
   "outputs": [],
   "source": [
    "from speechbrain.pretrained import EncoderClassifier\n",
    "\n",
    "# Correct source path\n",
    "classifier = EncoderClassifier.from_hparams(\n",
    "    source=\"Jzuluaga/accent-id-commonaccent_ecapa\",\n",
    "    savedir=\"pretrained_models/accent_id\"\n",
    ")\n"
   ]
  },
  {
   "attachments": {
    "image.png": {
     "image/png": "[encoded data removed]"
    }
   },
   "cell_type": "markdown",
   "id": "ae46fde4",
   "metadata": {},
   "source": [
    "![image.png](attachment:image.png)"
   ]
  },
  {
   "cell_type": "code",
   "execution_count": null,
   "id": "46fff36d",
   "metadata": {},
   "outputs": [],
   "source": [
    "import torchaudio\n",
    "from speechbrain.pretrained import EncoderClassifier\n",
    "\n",
    "# ---------- Function 1: Preprocess Audio ----------\n",
    "def preprocess_audio(input_path: str, output_path: str = \"processed_audio.wav\"):\n",
    "    \"\"\"\n",
    "    Converts audio to mono and 16 kHz sample rate.\n",
    "    Saves the processed audio to output_path.\n",
    "    \"\"\"\n",
    "    signal, sample_rate = torchaudio.load(input_path)\n",
    "\n",
    "    # Convert stereo to mono if needed\n",
    "    if signal.shape[0] > 1:\n",
    "        signal = signal.mean(dim=0, keepdim=True)\n",
    "\n",
    "    # Resample if needed\n",
    "    if sample_rate != 16000:\n",
    "        resampler = torchaudio.transforms.Resample(orig_freq=sample_rate, new_freq=16000)\n",
    "        signal = resampler(signal)\n",
    "\n",
    "    # Save the processed audio\n",
    "    torchaudio.save(output_path, signal, 16000)\n",
    "    return output_path\n",
    "\n",
    "\n",
    "# ---------- Function 2: Classify Accent ----------\n",
    "def classify_accent(audio_path: str):\n",
    "    \"\"\"\n",
    "    Runs accent classification on a given mono 16 kHz WAV file.\n",
    "    Returns the predicted accent and confidence.\n",
    "    \"\"\"\n",
    "    # Load classifier model\n",
    "    classifier = EncoderClassifier.from_hparams(\n",
    "        source=\"Jzuluaga/accent-id-commonaccent_ecapa\",\n",
    "        savedir=\"pretrained_models/accent_id\"\n",
    "    )\n",
    "\n",
    "    \n",
    "    # Predict accent\n",
    "    prediction = classifier.classify_file(audio_path)\n",
    "    predicted_label = prediction[3][0]  # first label as string\n",
    "    predicted_index = prediction[2][0].item()  # predicted class index\n",
    "\n",
    "    # Get confidence score for predicted class from prediction[0]\n",
    "    confidence_score = prediction[0][0][predicted_index].item() * 100  # as percentage\n",
    "\n",
    "    return predicted_label, predicted_index, confidence_score, prediction\n",
    "\n",
    "\n",
    "# Step 1: Preprocess\n",
    "processed_path = preprocess_audio(\"extracted_audio.wav\")\n",
    "\n",
    "# Step 2: Classify\n",
    "accent, index, confidence, full_pred = classify_accent(processed_path)\n",
    "\n",
    "# Print results\n",
    "print(f\"Predicted Accent: {accent}\")\n",
    "print(f\"Predicted Index: {index}\")\n",
    "print(f\"Confidence Score: {confidence:.2f}%\")\n",
    "print(f\"Full Prediction Output: {full_pred}\")"
   ]
  },
  {
   "cell_type": "code",
   "execution_count": null,
   "id": "833ae61b",
   "metadata": {},
   "outputs": [],
   "source": []
  },
  {
   "cell_type": "markdown",
   "id": "7e2701f4",
   "metadata": {},
   "source": [
    "🎧 What Happens If the Audio Has Multiple Speakers?\n",
    "When an audio file contains multiple speakers, but you feed it as a single input to a model like the ECAPA-based accent classifier, here’s what typically happens:\n",
    "\n",
    "🔍 Behavior of the Current Classifier:\n",
    "It treats the entire audio clip as if it's from one speaker.\n",
    "\n",
    "It extracts a single embedding vector from the whole waveform.\n",
    "\n",
    "It then predicts a single accent label based on the aggregate voice features.\n",
    "\n",
    "⚠️ This means the model might output a \"blended\" or biased prediction, dominated by the speaker who talks the most or has the clearest audio.\n",
    "\n",
    "✅ Proper Way to Handle Multi-Speaker Audio (if needed):\n",
    "If you want to classify each speaker's accent individually, you’d need to:\n",
    "\n",
    "Perform speaker diarization (i.e., identify who spoke when).\n",
    "\n",
    "Split the audio by speaker.\n",
    "\n",
    "Run accent classification on each speaker's segment separately.\n",
    "\n",
    "🧠 Tools for Speaker Diarization:\n",
    "pyannote-audio (most common, by Hugging Face)\n",
    "\n",
    "Resemblyzer (simpler, also effective)\n",
    "\n",
    "Google Cloud Speech-to-Text (has built-in diarization)\n",
    "\n",
    "Example Flow:\n",
    "plaintext\n",
    "Copy\n",
    "Edit\n",
    "full_audio.wav\n",
    "   ↓\n",
    "[speaker_1.wav, speaker_2.wav, speaker_3.wav]\n",
    "   ↓\n",
    "accent_classifier(speaker_1.wav) → \"British\"\n",
    "accent_classifier(speaker_2.wav) → \"Indian\"\n",
    "accent_classifier(speaker_3.wav) → \"American\"\n",
    "🧪 For Your Use Case (Hiring Tool):\n",
    "If the goal is just to assess English-speaking ability/accent, and the audio is dominated by one speaker (e.g., a job candidate answering), you're probably fine with the current single-speaker pipeline.\n",
    "\n",
    "But if you suspect multiple speakers (e.g., interview + interviewer), and need granular analysis, you may want to:\n",
    "\n",
    "Trim the audio manually,\n",
    "\n",
    "Or use diarization to separate voices.\n",
    "\n"
   ]
  },
  {
   "cell_type": "markdown",
   "id": "26e49ab1",
   "metadata": {},
   "source": []
  }
 ],
 "metadata": {
  "kernelspec": {
   "display_name": "video",
   "language": "python",
   "name": "python3"
  },
  "language_info": {
   "codemirror_mode": {
    "name": "ipython",
    "version": 3
   },
   "file_extension": ".py",
   "mimetype": "text/x-python",
   "name": "python",
   "nbconvert_exporter": "python",
   "pygments_lexer": "ipython3",
   "version": "3.10.16"
  }
 },
 "nbformat": 4,
 "nbformat_minor": 5
}
